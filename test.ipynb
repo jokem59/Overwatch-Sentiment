{
 "cells": [
  {
   "cell_type": "code",
   "execution_count": 19,
   "metadata": {
    "collapsed": false
   },
   "outputs": [
    {
     "name": "stdout",
     "output_type": "stream",
     "text": [
      "False\n",
      "17:18:04 17:18:02\n",
      "False\n",
      "17:42:56 17:42:55\n",
      "False\n",
      "18:00:04 18:00:03\n"
     ]
    }
   ],
   "source": [
    "from datetime import datetime, date, time\n",
    "\n",
    "with open('data.txt') as fin:\n",
    "    prev = time(5, 30)\n",
    "    for line in fin.readlines():\n",
    "        time = datetime.strptime(line.split()[5], \"%H:%M:%S\").time()\n",
    "        if time >= prev:\n",
    "            pass\n",
    "        else:\n",
    "            print False\n",
    "            print prev, time\n",
    "        prev = time\n"
   ]
  },
  {
   "cell_type": "code",
   "execution_count": 34,
   "metadata": {
    "collapsed": false
   },
   "outputs": [],
   "source": [
    "stop_words = []\n",
    "with open(\"/Users/JoeK/nltk_data/corpora/stopwords/english\") as f:\n",
    "    for line in f.readlines():\n",
    "        stop_words.append(line.strip())\n",
    "    \n",
    "stop_words.append('are')"
   ]
  },
  {
   "cell_type": "code",
   "execution_count": 30,
   "metadata": {
    "collapsed": false
   },
   "outputs": [],
   "source": [
    "from string import punctuation\n",
    "x = \"~hi ther'e, how are you?\"\n",
    "x = x.translate(None, punctuation)\n",
    "y = x.split()"
   ]
  },
  {
   "cell_type": "code",
   "execution_count": 35,
   "metadata": {
    "collapsed": false
   },
   "outputs": [
    {
     "data": {
      "text/plain": [
       "['hi', 'how', 'you']"
      ]
     },
     "execution_count": 35,
     "metadata": {},
     "output_type": "execute_result"
    }
   ],
   "source": [
    "for word in y:\n",
    "    if word in stop_words:\n",
    "        y.remove(word)\n",
    "y"
   ]
  },
  {
   "cell_type": "code",
   "execution_count": 24,
   "metadata": {
    "collapsed": false
   },
   "outputs": [
    {
     "data": {
      "text/plain": [
       "88"
      ]
     },
     "execution_count": 24,
     "metadata": {},
     "output_type": "execute_result"
    }
   ],
   "source": [
    "import sys\n",
    "sys.getsizeof([2, 3])"
   ]
  },
  {
   "cell_type": "code",
   "execution_count": 25,
   "metadata": {
    "collapsed": false
   },
   "outputs": [
    {
     "data": {
      "text/plain": [
       "24"
      ]
     },
     "execution_count": 25,
     "metadata": {},
     "output_type": "execute_result"
    }
   ],
   "source": [
    "sys.getsizeof(2)"
   ]
  }
 ],
 "metadata": {
  "anaconda-cloud": {},
  "kernelspec": {
   "display_name": "Python [Root]",
   "language": "python",
   "name": "Python [Root]"
  },
  "language_info": {
   "codemirror_mode": {
    "name": "ipython",
    "version": 2
   },
   "file_extension": ".py",
   "mimetype": "text/x-python",
   "name": "python",
   "nbconvert_exporter": "python",
   "pygments_lexer": "ipython2",
   "version": "2.7.12"
  }
 },
 "nbformat": 4,
 "nbformat_minor": 0
}
